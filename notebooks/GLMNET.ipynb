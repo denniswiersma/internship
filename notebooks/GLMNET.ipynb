{
 "cells": [
  {
   "cell_type": "markdown",
   "source": [
    "# GLMNET\n",
    "\n",
    "## set working directory\n",
    "Warning: only run the cell below once per kernel session"
   ],
   "metadata": {
    "collapsed": false
   },
   "id": "458f5f39"
  },
  {
   "cell_type": "code",
   "execution_count": null,
   "outputs": [],
   "source": [
    "import os\n",
    "from pathlib import Path\n",
    "\n",
    "project_root = Path.cwd().parent\n",
    "os.chdir(project_root)\n",
    "print(os.getcwd())"
   ],
   "metadata": {
    "collapsed": false
   },
   "id": "2cb240c64f15c53f"
  },
  {
   "cell_type": "markdown",
   "source": [
    "## loading data"
   ],
   "metadata": {
    "collapsed": false
   },
   "id": "f7f50762da255de7"
  },
  {
   "cell_type": "code",
   "execution_count": null,
   "id": "d75c5fc5",
   "metadata": {},
   "outputs": [],
   "source": [
    "from data import Data\n",
    "import tomllib\n",
    "\n",
    "with open(\"config.toml\", \"rb\") as file:\n",
    "    config = tomllib.load(file)\n",
    "\n",
    "data = Data(config)"
   ]
  },
  {
   "cell_type": "markdown",
   "id": "027add39",
   "metadata": {},
   "source": [
    "## Setup for GLMNET\n",
    "\n",
    "Note: the amount of data in the subset might differ from the amount requested in `data.get_subset()`, when you request more data than the given number of labels can provide."
   ]
  },
  {
   "cell_type": "code",
   "execution_count": null,
   "outputs": [],
   "source": [
    "dataset = data.get_mm_with_tt()"
   ],
   "metadata": {
    "collapsed": false
   },
   "id": "792f5a1aea3c4bdc"
  },
  {
   "cell_type": "code",
   "execution_count": null,
   "outputs": [],
   "source": [
    "# Optional: subset\n",
    "dataset = data.get_subset(dataset, n_rows=1500, n_cols=20, n_labels=5)"
   ],
   "metadata": {
    "collapsed": false
   },
   "id": "3d3054e05b58110f"
  },
  {
   "cell_type": "code",
   "execution_count": null,
   "id": "54a38642",
   "metadata": {},
   "outputs": [],
   "source": [
    "from ml.glm import GLM\n",
    "glm = GLM(data)\n",
    "\n",
    "print(\"size of dataset:\", dataset.shape)\n",
    "\n",
    "train, test, val = data.get_train_test_val(\n",
    "    train_size=0.7,\n",
    "    test_size=0.15,\n",
    "    val_size=0.15,\n",
    "    data=dataset\n",
    ")\n",
    "print(\"size of train:\", train.shape)\n",
    "print(\"size of test:\", test.shape)\n",
    "print(\"size of val:\", val.shape)\n",
    "\n",
    "glm.plot_label_distribution(train, test, val)\n"
   ]
  },
  {
   "cell_type": "markdown",
   "source": [
    "## Split reponse from predictors"
   ],
   "metadata": {
    "collapsed": false
   },
   "id": "ce187f3dacf1908d"
  },
  {
   "cell_type": "code",
   "execution_count": null,
   "outputs": [],
   "source": [
    "xtrain, ytrain = data.split_xy(train)\n",
    "xtest, ytest = data.split_xy(test)\n",
    "xval, yval = data.split_xy(val)"
   ],
   "metadata": {
    "collapsed": false
   },
   "id": "fd4db41c4d5f37ca"
  },
  {
   "cell_type": "markdown",
   "id": "80154b20",
   "metadata": {},
   "source": [
    "## Run GLMNET"
   ]
  },
  {
   "cell_type": "code",
   "execution_count": null,
   "id": "948fb7a9",
   "metadata": {},
   "outputs": [],
   "source": [
    "fit = glm.fit_glm(xtrain, ytrain)"
   ]
  },
  {
   "cell_type": "markdown",
   "id": "69bd65d2",
   "metadata": {},
   "source": [
    "## Predict"
   ]
  },
  {
   "cell_type": "code",
   "execution_count": null,
   "id": "89478183",
   "metadata": {},
   "outputs": [],
   "source": [
    "import numpy as np\n",
    "\n",
    "ypredict = glm.predict(fit, newx=xtest, type=\"class\")\n",
    "ypredict_probs = glm.predict(fit, newx=xtest, type=\"response\")\n",
    "ypredict_probs = np.squeeze(ypredict_probs, axis=-1)"
   ]
  },
  {
   "cell_type": "markdown",
   "source": [
    "## Evaluate"
   ],
   "metadata": {
    "collapsed": false
   },
   "id": "584bc56e9b082ace"
  },
  {
   "cell_type": "code",
   "execution_count": null,
   "outputs": [],
   "source": [
    "glm.assess(ytest, ypredict, ypredict_probs)"
   ],
   "metadata": {
    "collapsed": false
   },
   "id": "68cd4a84f13a77ee"
  }
 ],
 "metadata": {
  "kernelspec": {
   "display_name": "Python 3 (ipykernel)",
   "language": "python",
   "name": "python3"
  },
  "language_info": {
   "codemirror_mode": {
    "name": "ipython",
    "version": 3
   },
   "file_extension": ".py",
   "mimetype": "text/x-python",
   "name": "python",
   "nbconvert_exporter": "python",
   "pygments_lexer": "ipython3",
   "version": "3.11.0"
  }
 },
 "nbformat": 4,
 "nbformat_minor": 5
}
