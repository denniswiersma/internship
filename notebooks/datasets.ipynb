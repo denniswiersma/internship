{
 "cells": [
  {
   "cell_type": "markdown",
   "id": "73f4ae09-490b-4c3c-a626-6c0d884abff0",
   "metadata": {},
   "source": [
    "# Datasets\n",
    "\n",
    "This notebook is used to split data into smaller subsets."
   ]
  },
  {
   "cell_type": "markdown",
   "id": "7f27d151-3db0-471c-88bd-8716ba0cf7dc",
   "metadata": {},
   "source": [
    "## Set working directory"
   ]
  },
  {
   "cell_type": "code",
   "execution_count": 1,
   "id": "cc6713a1-d401-4002-96f9-2b108cccafd3",
   "metadata": {},
   "outputs": [
    {
     "name": "stdout",
     "output_type": "stream",
     "text": [
      "/homes/dwiersma/Desktop/internship\n"
     ]
    }
   ],
   "source": [
    "import os\n",
    "from pathlib import Path\n",
    "\n",
    "project_root = Path.cwd().parent\n",
    "os.chdir(project_root)\n",
    "print(os.getcwd())"
   ]
  },
  {
   "cell_type": "markdown",
   "id": "81225cc8-8008-41ee-b742-c1079f2ae31e",
   "metadata": {},
   "source": [
    "## Load GPL570 microarray data"
   ]
  },
  {
   "cell_type": "code",
   "execution_count": 2,
   "id": "5936ffcb-259f-4edb-b082-7cdc95bcb9ae",
   "metadata": {},
   "outputs": [
    {
     "name": "stderr",
     "output_type": "stream",
     "text": [
      "2024-01-10 20:51:03,796:src.log_manager:INFO:Loading data...\n",
      "2024-01-10 20:51:54,095:src.log_manager:INFO:Data loaded in 50.2944 seconds\n"
     ]
    },
    {
     "name": "stdout",
     "output_type": "stream",
     "text": [
      "ma_data shape: (15403, 9710)\n"
     ]
    }
   ],
   "source": [
    "import tomllib\n",
    "from src.data import Data\n",
    "\n",
    "# load config\n",
    "with open(\"config.toml\", \"rb\") as file:\n",
    "    config = tomllib.load(file)\n",
    "\n",
    "# load the microarray data (set in config.toml)\n",
    "data = Data(config)\n",
    "\n",
    "ma_data = data.get_mm_with_tt()\n",
    "# replace the spaces in the covariate's names with underscores\n",
    "ma_data.columns = ma_data.columns.str.replace(\" \", \"_\")\n",
    "print(f\"ma_data shape: {ma_data.shape}\")"
   ]
  },
  {
   "cell_type": "markdown",
   "id": "e8aaf3f6-eefd-4070-8291-48e997e166cd",
   "metadata": {},
   "source": [
    "## Load TCGA data"
   ]
  },
  {
   "cell_type": "code",
   "execution_count": 3,
   "id": "978a4f53-4bc4-44c8-bab1-3a5f88b4c499",
   "metadata": {},
   "outputs": [
    {
     "name": "stderr",
     "output_type": "stream",
     "text": [
      "2024-01-10 20:51:59,274:src.log_manager:INFO:Loading data...\n",
      "2024-01-10 20:52:32,092:src.log_manager:INFO:Data loaded in 32.8152 seconds\n"
     ]
    },
    {
     "name": "stdout",
     "output_type": "stream",
     "text": [
      "tcga_data shape: (8862, 9710)\n"
     ]
    }
   ],
   "source": [
    "# set the data location to the TCGA mixing matrix\n",
    "config[\"data\"][\"locations\"][\"mixing_matrix\"] = \"data/corrected_mixing_matrix.tsv\"\n",
    "config[\"data\"][\"locations\"][\"tumor_types\"] = \"data/TCGA__Sample_To_TumorType_with_common_cancer_type_mapping_GEO_TCGA.tsv\"\n",
    "\n",
    "# set correct column names for the annotation data\n",
    "config[\"data\"][\"columns\"][\"tumor_types\"][\"sample_name\"] = \"ID2\"\n",
    "config[\"data\"][\"columns\"][\"tumor_types\"][\"response\"] = \"TYPE3\"\n",
    "\n",
    "# load the tcga data\n",
    "data = Data(config)\n",
    "\n",
    "# replaces the \"-\" in sample names with \".\" to match the sample names in the mixing matrix and annotation data\n",
    "data.replace_sample_sep(\".\")\n",
    "\n",
    "tcga_data = data.get_mm_with_tt()\n",
    "# replace the spaces in the covariate's names with underscores\n",
    "tcga_data.columns = tcga_data.columns.str.replace(\" \", \"_\")\n",
    "print(f\"tcga_data shape: {tcga_data.shape}\")"
   ]
  },
  {
   "cell_type": "markdown",
   "id": "2ac775ee-156d-4ea8-94c8-7c4e6c4de331",
   "metadata": {},
   "source": [
    "## Limited cancer types datasets"
   ]
  },
  {
   "cell_type": "markdown",
   "id": "c9eba63b-8992-47a8-8097-16a81ffe1a41",
   "metadata": {},
   "source": [
    "### Find cancer types that have sufficient samples"
   ]
  },
  {
   "cell_type": "code",
   "execution_count": 4,
   "id": "1794a14f-a4ee-4770-877c-4700db3f68ac",
   "metadata": {},
   "outputs": [
    {
     "name": "stdout",
     "output_type": "stream",
     "text": [
      "                            count_tcga  count_ma  total\n",
      "response                                               \n",
      "Colorectal adenocarcinoma          573      2350   2923\n",
      "Acute myeloid leukemia             173      2094   2267\n",
      "Breast cancer- ER+/HER2-           554      1549   2103\n",
      "Lung adenocarcinoma                517       988   1505\n",
      "HNSCC                              522       329    851\n",
      "Cutaneous melanoma                 472       358    830\n",
      "Breast cancer- TNBC                146       661    807\n",
      "Renal clear cell carcinoma         534       224    758\n",
      "Gastric adenocarcinoma             415       326    741\n",
      "Prostate carcinoma                 498       215    713\n",
      "Hepatocellular carcinoma           373       332    705\n",
      "Lower grade glioma                 530       144    674\n",
      "Breast cancer- ER+/HER2+           140       468    608\n",
      "Glioblastoma multiforme            166       355    521\n",
      "Ovarian carcinoma                  307       154    461\n"
     ]
    }
   ],
   "source": [
    "# some cancer type names end in whitespace, removing this whitespace here\n",
    "tcga_data[\"response\"] = tcga_data[\"response\"].str.rstrip()\n",
    "\n",
    "# calculate value counts for both datasets\n",
    "tcga_counts = tcga_data.value_counts(\"response\")\n",
    "ma_counts = ma_data.value_counts(\"response\")\n",
    "\n",
    "# merge the two count dataframes\n",
    "counts = tcga_counts.to_frame().merge(ma_counts, on=\"response\", suffixes=[\"_tcga\", \"_ma\"])\n",
    "\n",
    "# remove the \"normal\" cancer type, since the definition of \"normal\" may differ\n",
    "i = counts[counts.index == \"Normal\"].index\n",
    "counts = counts.drop(i)\n",
    "\n",
    "# remove cancer types that have fewer than min_count samples\n",
    "# these are removed since a model will likely struggle to classify these samples correctly\n",
    "min_count = 100\n",
    "tt_to_keep = counts[(counts[\"count_tcga\"] >= min_count) & (counts[\"count_ma\"] >= min_count)].index\n",
    "counts = counts[counts.index.isin(tt_to_keep)]\n",
    "\n",
    "# add a column containing the total number of samples for a given cancer type\n",
    "counts.loc[:,'total'] = counts.sum(axis=1)\n",
    "# sort the counts by the total column\n",
    "counts = counts.sort_values(by=[\"total\"], ascending=False)\n",
    "\n",
    "print(counts)"
   ]
  },
  {
   "cell_type": "markdown",
   "id": "fa9ba678-d1f6-4bfd-82ef-defbecac4477",
   "metadata": {},
   "source": [
    "### Subset with a selected number of cancer types"
   ]
  },
  {
   "cell_type": "code",
   "execution_count": 10,
   "id": "7fefef01-7810-4545-b2de-b10a463dcb4d",
   "metadata": {},
   "outputs": [
    {
     "name": "stdout",
     "output_type": "stream",
     "text": [
      "selected GPL570 data: (10547, 9710)\n",
      "selected TCGA data: (5920, 9710)\n"
     ]
    }
   ],
   "source": [
    "n_tt = 15\n",
    "\n",
    "selected_tt = counts.index[0:n_tt].to_list()\n",
    "\n",
    "selected_ma_data = ma_data.loc[ma_data[\"response\"].isin(selected_tt)]\n",
    "selected_tcga_data = tcga_data.loc[tcga_data[\"response\"].isin(selected_tt)]\n",
    "\n",
    "print(\"selected GPL570 data:\", selected_ma_data.shape)\n",
    "print(\"selected TCGA data:\", selected_tcga_data.shape)"
   ]
  },
  {
   "cell_type": "markdown",
   "id": "309c2525-8d20-420e-bebc-78c5bbc04001",
   "metadata": {},
   "source": [
    "### Save subsets to disk"
   ]
  },
  {
   "cell_type": "code",
   "execution_count": 11,
   "id": "28a77f45-1f45-4580-bc92-ae5c63a4d6db",
   "metadata": {},
   "outputs": [],
   "source": [
    "ma_path = f\"data/subsets_sorted/ma_{n_tt}ct_min{min_count}s.csv\"\n",
    "tcga_path = f\"data/subsets_sorted/tcga_{n_tt}ct_min{min_count}s.csv\"\n",
    "\n",
    "selected_ma_data.to_csv(ma_path)\n",
    "selected_tcga_data.to_csv(tcga_path)"
   ]
  }
 ],
 "metadata": {
  "kernelspec": {
   "display_name": "Python 3 (ipykernel)",
   "language": "python",
   "name": "python3"
  },
  "language_info": {
   "codemirror_mode": {
    "name": "ipython",
    "version": 3
   },
   "file_extension": ".py",
   "mimetype": "text/x-python",
   "name": "python",
   "nbconvert_exporter": "python",
   "pygments_lexer": "ipython3",
   "version": "3.12.0"
  }
 },
 "nbformat": 4,
 "nbformat_minor": 5
}
