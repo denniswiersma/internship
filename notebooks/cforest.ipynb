{
 "cells": [
  {
   "cell_type": "markdown",
   "source": [
    "# Cforest\n",
    "\n",
    "## Set working directory\n",
    "Warning: only run the cell below once per kernel session\n",
    "Warning: the cell below set the working directory to the project root and should therefore be run once per kernel session."
   ],
   "metadata": {
    "collapsed": false
   },
   "id": "51a9ec08fa388777"
  },
  {
   "cell_type": "code",
   "execution_count": null,
   "outputs": [],
   "source": [
    "import os\n",
    "from pathlib import Path\n",
    "\n",
    "project_root = Path.cwd().parent\n",
    "os.chdir(project_root)\n",
    "print(os.getcwd())"
   ],
   "metadata": {
    "collapsed": false
   },
   "id": "5b7c88254484070c"
  },
  {
   "cell_type": "markdown",
   "source": [
    "## Load the data"
   ],
   "metadata": {
    "collapsed": false
   },
   "id": "99f8e1949629dbd1"
  },
  {
   "cell_type": "code",
   "execution_count": null,
   "outputs": [],
   "source": [
    "from src.data import Data\n",
    "import tomllib\n",
    "\n",
    "with open(\"config.toml\", \"rb\") as file:\n",
    "    config = tomllib.load(file)\n",
    "    \n",
    "data = Data(config)\n",
    "\n",
    "# new mixing matrix has different sample separator\n",
    "data.replace_sample_sep(\".\")"
   ],
   "metadata": {
    "collapsed": false
   },
   "id": "3b0d0bfda825c71e"
  },
  {
   "cell_type": "code",
   "execution_count": null,
   "outputs": [],
   "source": [
    "# fetch the current state of the mixing matrix with a tumor types column\n",
    "dataset = data.get_mm_with_tt()"
   ],
   "metadata": {
    "collapsed": false
   },
   "id": "eab4501fa82deaa5"
  },
  {
   "cell_type": "markdown",
   "source": [
    "## Split data into train, test, and validation sets"
   ],
   "metadata": {
    "collapsed": false
   },
   "id": "d800a4b20c404484"
  },
  {
   "cell_type": "code",
   "execution_count": null,
   "outputs": [],
   "source": [
    "# Set the sizes of the train, test, and validation sets according to some fraction\n",
    "train, test, val = data.get_train_test_val(\n",
    "    train_size=0.7,\n",
    "    test_size=0.15,\n",
    "    val_size=0.15,\n",
    "    data=dataset\n",
    ")\n",
    "\n",
    "test.to_csv(Path(config[\"output\"][\"locations\"][\"cforest\"]).parent.joinpath(\"test_data\").with_suffix(\".csv\"))"
   ],
   "metadata": {
    "collapsed": false
   },
   "id": "66996a341e9a171f"
  },
  {
   "cell_type": "markdown",
   "source": [
    "## Build the cforest model\n",
    "\n",
    "The plot, save, and assess methods will save files to the output directory specified in the `config.toml` file.\n",
    "Each model type (e.g., glm, ctree, cforest) will have its own subdirectory in the output directory.\n",
    "Each model fit will have its own subdirectory in the model type directory consisting of the date, time, and a unique identifier."
   ],
   "metadata": {
    "collapsed": false
   },
   "id": "fdf013749bc60464"
  },
  {
   "cell_type": "code",
   "execution_count": null,
   "outputs": [],
   "source": [
    "import itertools\n",
    "from src.ml.cforest import Cforest\n",
    "cforest = Cforest(data)\n",
    "\n",
    "# Grid search\n",
    "ntrees = [5, 10, 100, 500, 1000]\n",
    "testtype = [\"Univariate\", \"Bonferroni\"]\n",
    "minsplit = [10, 20, 50]\n",
    "minbucket = [3, 7, 14, 35]\n",
    "\n",
    "options = itertools.product(ntrees, testtype, minsplit, minbucket)\n",
    "\n",
    "for option in options:\n",
    "    ctrl = cforest.CtreeControl(\n",
    "        testtype=option[1],\n",
    "        minsplit=option[2],\n",
    "        minbucket=option[3],\n",
    "    )\n",
    "\n",
    "    cforest.fit(\n",
    "        train=train,\n",
    "        ctree_control=ctrl,\n",
    "        ntree=option[0],\n",
    "        cores=config[\"execution\"][\"cores\"]\n",
    "    )\n",
    "\n",
    "    cforest.save()\n",
    "\n",
    "    ## Predict on train ##\n",
    "    ypredict_probs = cforest.predict(newx=train.drop(columns=[\"response\"]), type=\"prob\")\n",
    "    ypredict = cforest.predict(newx=train.drop(columns=[\"response\"]), type=\"response\")\n",
    "    cforest.assess(ytrue=train[\"response\"], ypredict=ypredict, ypredict_probs=ypredict_probs, name=\"clustermap_train\")\n",
    "    \n",
    "    ## Predict on val ##\n",
    "    ypredict_probs = cforest.predict(newx=val.drop(columns=[\"response\"]), type=\"prob\")\n",
    "    ypredict = cforest.predict(newx=val.drop(columns=[\"response\"]), type=\"response\")\n",
    "    cforest.assess(ytrue=val[\"response\"], ypredict=ypredict, ypredict_probs=ypredict_probs, name=\"clustermap_val\")"
   ],
   "metadata": {
    "collapsed": false
   },
   "id": "3ea0093d2b0c9330"
  }
 ],
 "metadata": {
  "kernelspec": {
   "display_name": "Python 3 (ipykernel)",
   "language": "python",
   "name": "python3"
  },
  "language_info": {
   "codemirror_mode": {
    "name": "ipython",
    "version": 3
   },
   "file_extension": ".py",
   "mimetype": "text/x-python",
   "name": "python",
   "nbconvert_exporter": "python",
   "pygments_lexer": "ipython3",
   "version": "3.11.0"
  }
 },
 "nbformat": 4,
 "nbformat_minor": 5
}
