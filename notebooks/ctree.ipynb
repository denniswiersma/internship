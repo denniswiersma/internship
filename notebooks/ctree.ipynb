{
 "cells": [
  {
   "cell_type": "markdown",
   "source": [
    "# Ctree\n",
    "\n",
    "## Set working directory\n",
    "Warning: only run the cell below once per kernel session\n",
    "Warning: the cell below set the working directory to the project root and should therefore be run once per kernel session."
   ],
   "metadata": {
    "collapsed": false
   },
   "id": "51a9ec08fa388777"
  },
  {
   "cell_type": "code",
   "execution_count": null,
   "outputs": [],
   "source": [
    "import os\n",
    "from pathlib import Path\n",
    "\n",
    "project_root = Path.cwd().parent\n",
    "os.chdir(project_root)\n",
    "print(os.getcwd())"
   ],
   "metadata": {
    "collapsed": false
   },
   "id": "5b7c88254484070c"
  },
  {
   "cell_type": "markdown",
   "source": [
    "## Load the data"
   ],
   "metadata": {
    "collapsed": false
   },
   "id": "99f8e1949629dbd1"
  },
  {
   "cell_type": "code",
   "execution_count": null,
   "outputs": [],
   "source": [
    "from data import Data\n",
    "import tomllib\n",
    "\n",
    "with open(\"config.toml\", \"rb\") as file:\n",
    "    config = tomllib.load(file)\n",
    "    \n",
    "data = Data(config)\n",
    "\n",
    "# new mixing matrix has different sample separator\n",
    "data.replace_sample_sep(\".\")"
   ],
   "metadata": {
    "collapsed": false
   },
   "id": "3b0d0bfda825c71e"
  },
  {
   "cell_type": "code",
   "execution_count": null,
   "outputs": [],
   "source": [
    "# fetch the current state of the mixing matrix with a tumor types column\n",
    "dataset = data.get_mm_with_tt()"
   ],
   "metadata": {
    "collapsed": false
   },
   "id": "eab4501fa82deaa5"
  },
  {
   "cell_type": "markdown",
   "source": [
    "## Split data into train, test, and validation sets"
   ],
   "metadata": {
    "collapsed": false
   },
   "id": "d800a4b20c404484"
  },
  {
   "cell_type": "code",
   "execution_count": null,
   "outputs": [],
   "source": [
    "# Set the sizes of the train, test, and validation sets according to some fraction\n",
    "train, test, val = data.get_train_test_val(\n",
    "    train_size=0.7,\n",
    "    test_size=0.15,\n",
    "    val_size=0.15,\n",
    "    data=dataset\n",
    ")"
   ],
   "metadata": {
    "collapsed": false
   },
   "id": "66996a341e9a171f"
  },
  {
   "cell_type": "code",
   "execution_count": null,
   "outputs": [],
   "source": [
    "# Check the shapes and distributions of the train, test, and validation sets\n",
    "print(\"size of train:\", train.shape)\n",
    "print(\"size of test:\", test.shape)\n",
    "print(\"size of val:\", val.shape)"
   ],
   "metadata": {
    "collapsed": false
   },
   "id": "a6aae892440f33ff"
  },
  {
   "cell_type": "markdown",
   "source": [
    "## Build the ctree model\n",
    "\n",
    "The plot, save, and assess methods will save files to the output directory specified in the config.toml file.\n",
    "Each model type (e.g., glm, ctree, cforest) will have its own subdirectory in the output directory.\n",
    "Each model fit will have its own subdirectory in the model type directory consisting of the date, time, and a unique identifier."
   ],
   "metadata": {
    "collapsed": false
   },
   "id": "fdf013749bc60464"
  },
  {
   "cell_type": "code",
   "execution_count": null,
   "outputs": [],
   "source": [
    "from ml.ctree import Ctree\n",
    "ctree = Ctree(data)\n",
    "\n",
    "ctrl = ctree.CtreeControl(\n",
    "    testtype= \"Bonferroni\",\n",
    "    alpha=0.01\n",
    ")\n",
    "\n",
    "ctree.fit(\n",
    "    train=train,\n",
    "    ctree_control=ctrl,\n",
    ")\n",
    "\n",
    "ctree.plot()\n",
    "ctree.save()"
   ],
   "metadata": {
    "collapsed": false
   },
   "id": "3ea0093d2b0c9330"
  },
  {
   "cell_type": "code",
   "execution_count": null,
   "outputs": [],
   "source": [
    "ypredict = ctree.predict(newx=test.drop(columns=[\"response\"]), type=\"response\")\n",
    "ypredict_probs = ctree.predict(newx=test.drop(columns=[\"response\"]), type=\"prob\")\n",
    "\n",
    "ctree.assess(ytrue=test[\"response\"], ypredict=ypredict, ypredict_probs=ypredict_probs)"
   ],
   "metadata": {
    "collapsed": false
   },
   "id": "a691e7a5214cf99e"
  }
 ],
 "metadata": {
  "kernelspec": {
   "display_name": "Python 3 (ipykernel)",
   "language": "python",
   "name": "python3"
  },
  "language_info": {
   "codemirror_mode": {
    "name": "ipython",
    "version": 3
   },
   "file_extension": ".py",
   "mimetype": "text/x-python",
   "name": "python",
   "nbconvert_exporter": "python",
   "pygments_lexer": "ipython3",
   "version": "3.11.0"
  }
 },
 "nbformat": 4,
 "nbformat_minor": 5
}
