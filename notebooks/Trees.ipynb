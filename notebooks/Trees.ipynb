{
 "cells": [
  {
   "cell_type": "markdown",
   "source": [
    "# Trees\n",
    "\n",
    "## set working directory\n",
    "Warning: only run the cell below once per kernel session"
   ],
   "metadata": {
    "collapsed": false
   },
   "id": "51a9ec08fa388777"
  },
  {
   "cell_type": "code",
   "execution_count": null,
   "outputs": [],
   "source": [
    "import os\n",
    "from pathlib import Path\n",
    "\n",
    "project_root = Path.cwd().parent\n",
    "os.chdir(project_root)\n",
    "print(os.getcwd())"
   ],
   "metadata": {
    "collapsed": false
   },
   "id": "5b7c88254484070c"
  },
  {
   "cell_type": "markdown",
   "source": [
    "## loading data"
   ],
   "metadata": {
    "collapsed": false
   },
   "id": "99f8e1949629dbd1"
  },
  {
   "cell_type": "code",
   "execution_count": null,
   "outputs": [],
   "source": [
    "from data import Data\n",
    "import tomllib\n",
    "\n",
    "with open(\"config.toml\", \"rb\") as file:\n",
    "    config = tomllib.load(file)\n",
    "    \n",
    "data = Data(config)"
   ],
   "metadata": {
    "collapsed": false
   },
   "id": "3b0d0bfda825c71e"
  },
  {
   "cell_type": "markdown",
   "source": [
    "## Setup for TreeBuilder"
   ],
   "metadata": {
    "collapsed": false
   },
   "id": "d800a4b20c404484"
  },
  {
   "cell_type": "code",
   "execution_count": null,
   "outputs": [],
   "source": [
    "from ml.tree import TreeBuilder\n",
    "from rpy2 import robjects\n",
    "treebuilder = TreeBuilder(data)"
   ],
   "metadata": {
    "collapsed": false
   },
   "id": "9b977cd9443172b3"
  },
  {
   "cell_type": "markdown",
   "source": [
    "## ctree: single tree\n",
    "\n",
    "All plots are saved in `ml/[predictor]/`, or, e.g., `ml/[predictor1]_[predictor3]/` when multiple predictors are defined."
   ],
   "metadata": {
    "collapsed": false
   },
   "id": "fdf013749bc60464"
  },
  {
   "cell_type": "code",
   "execution_count": null,
   "outputs": [],
   "source": [
    "%matplotlib inline\n",
    "from IPython.display import Image\n",
    "\n",
    "model = treebuilder.build_ctree(\n",
    "    testtype= \"Bonferroni\",\n",
    "    teststat=\"quad\",\n",
    "    splittest=False,\n",
    "    predictors=[\n",
    "        \".\"]\n",
    ")\n",
    "\n",
    "treebuilder.save_tree(model=model, type=[\"img\", \"model\"], testtype=\"Bonferroni\", teststat=\"quad\", splittest=False, predictors= [\".\"]) \n",
    "# Image(image_path)"
   ],
   "metadata": {
    "collapsed": false
   },
   "id": "ac4be5aabd8280b3"
  },
  {
   "cell_type": "markdown",
   "source": [
    "\n",
    "## ctree: multiprocessed\n",
    "\n",
    "Note: this might take a while depending on the number of parameters and the size of the dataset.\n",
    "\n",
    "All plots are saved in `ml/[predictor]/`, or, e.g., `ml/[predictor1]_[predictor3]/` when multiple predictors are defined.\n",
    "\n",
    "### Prepare parameters\n",
    "\n",
    "A tree will be built for each combination of parameters. The parameters are defined below."
   ],
   "metadata": {
    "collapsed": false
   },
   "id": "cfadbdb3fa12aaef"
  },
  {
   "cell_type": "code",
   "execution_count": null,
   "outputs": [],
   "source": [
    "import itertools\n",
    "\n",
    "# define parameters to be passed to ctree\n",
    "teststats: list[str] = [\"quad\", \"max\"]\n",
    "testtypes: list[str | list] = [\n",
    "    \"Teststatistic\",\n",
    "    \"Univariate\",\n",
    "    \"Bonferroni\",\n",
    "    \"MonteCarlo\",\n",
    "    robjects.r.c(\"MonteCarlo\", \"Bonferroni\"),\n",
    "]\n",
    "splitstats: list[str] = [\"quad\", \"max\"]\n",
    "# splittests: list[bool] = [True, False]\n",
    "alphas: list[float] = [0.1, 0.05, 0.01]\n",
    "predictors: list[list[str]] = [\n",
    "    [\"consensus independent component 1\"],\n",
    "    [\"consensus independent component 2\"],\n",
    "    [\"consensus independent component 3\"],\n",
    "]\n",
    "\n",
    "# make all possible combinations of parameters above\n",
    "arg_combos = itertools.product(\n",
    "    teststats, testtypes, splitstats, alphas, predictors\n",
    ")\n"
   ],
   "metadata": {
    "collapsed": false
   },
   "id": "2fa41ebc8cf7d097"
  },
  {
   "cell_type": "code",
   "execution_count": null,
   "outputs": [],
   "source": [
    "import multiprocessing as mp\n",
    "from datetime import datetime\n",
    "\n",
    "t0 = datetime.now()\n",
    "print(f\"starting time: {t0.time()}\")\n",
    "\n",
    "with mp.Pool(config[\"execution\"][\"cores\"]) as p:\n",
    "    p.starmap(treebuilder.build_ctree, arg_combos)\n",
    "    \n",
    "print(\"Time taken:\", datetime.now() - t0)"
   ],
   "metadata": {
    "collapsed": false
   },
   "id": "da03616ae15011ba"
  }
 ],
 "metadata": {
  "kernelspec": {
   "display_name": "Python 3 (ipykernel)",
   "language": "python",
   "name": "python3"
  },
  "language_info": {
   "codemirror_mode": {
    "name": "ipython",
    "version": 3
   },
   "file_extension": ".py",
   "mimetype": "text/x-python",
   "name": "python",
   "nbconvert_exporter": "python",
   "pygments_lexer": "ipython3",
   "version": "3.11.0"
  }
 },
 "nbformat": 4,
 "nbformat_minor": 5
}
