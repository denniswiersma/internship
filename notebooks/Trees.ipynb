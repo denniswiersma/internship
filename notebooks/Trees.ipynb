{
 "cells": [
  {
   "cell_type": "markdown",
   "source": [
    "# Trees\n",
    "\n",
    "## set working directory\n",
    "Warning: only run the cell below once per kernel session"
   ],
   "metadata": {
    "collapsed": false
   },
   "id": "51a9ec08fa388777"
  },
  {
   "cell_type": "code",
   "execution_count": 1,
   "outputs": [
    {
     "name": "stdout",
     "output_type": "stream",
     "text": [
      "/Users/denniswiersma/Library/Mobile Documents/com~apple~CloudDocs/Documents/School/Bioinformatica/internship\n"
     ]
    }
   ],
   "source": [
    "import os\n",
    "from pathlib import Path\n",
    "\n",
    "project_root = Path.cwd().parent\n",
    "os.chdir(project_root)\n",
    "print(os.getcwd())"
   ],
   "metadata": {
    "collapsed": false,
    "ExecuteTime": {
     "end_time": "2023-11-11T15:49:57.786422Z",
     "start_time": "2023-11-11T15:49:57.777528Z"
    }
   },
   "id": "5b7c88254484070c"
  },
  {
   "cell_type": "markdown",
   "source": [
    "## loading data"
   ],
   "metadata": {
    "collapsed": false
   },
   "id": "99f8e1949629dbd1"
  },
  {
   "cell_type": "code",
   "execution_count": 2,
   "outputs": [
    {
     "name": "stdout",
     "output_type": "stream",
     "text": [
      "Reading data...\n"
     ]
    }
   ],
   "source": [
    "from data import Data\n",
    "import tomllib\n",
    "\n",
    "with open(\"config.toml\", \"rb\") as file:\n",
    "    config = tomllib.load(file)\n",
    "    \n",
    "data = Data(config)\n",
    "\n",
    "# new mixing matrix has different sample separator\n",
    "data.replace_sample_sep(\".\")"
   ],
   "metadata": {
    "collapsed": false,
    "ExecuteTime": {
     "end_time": "2023-11-11T15:50:26.892057Z",
     "start_time": "2023-11-11T15:49:59.235586Z"
    }
   },
   "id": "3b0d0bfda825c71e"
  },
  {
   "cell_type": "markdown",
   "source": [
    "## Setup for TreeBuilder"
   ],
   "metadata": {
    "collapsed": false
   },
   "id": "d800a4b20c404484"
  },
  {
   "cell_type": "code",
   "execution_count": 3,
   "outputs": [],
   "source": [
    "# fetch the current state of the mixing matrix with a tumor types column\n",
    "dataset = data.get_mm_with_tt()"
   ],
   "metadata": {
    "collapsed": false,
    "ExecuteTime": {
     "end_time": "2023-11-11T15:52:29.635227Z",
     "start_time": "2023-11-11T15:52:28.236547Z"
    }
   },
   "id": "eab4501fa82deaa5"
  },
  {
   "cell_type": "code",
   "execution_count": 4,
   "outputs": [],
   "source": [
    "# Set the sizes of the train, test, and validation sets according to some fraction\n",
    "train, test, val = data.get_train_test_val(\n",
    "    train_size=0.05,\n",
    "    test_size=0.05,\n",
    "    val_size=0.9,\n",
    "    data=dataset\n",
    ")"
   ],
   "metadata": {
    "collapsed": false,
    "ExecuteTime": {
     "end_time": "2023-11-11T15:52:31.111358Z",
     "start_time": "2023-11-11T15:52:30.239036Z"
    }
   },
   "id": "66996a341e9a171f"
  },
  {
   "cell_type": "code",
   "execution_count": 5,
   "outputs": [
    {
     "name": "stdout",
     "output_type": "stream",
     "text": [
      "size of train: (443, 9710)\n",
      "size of test: (443, 9710)\n",
      "size of val: (7976, 9710)\n"
     ]
    }
   ],
   "source": [
    "# Check the shapes and distributions of the train, test, and validation sets\n",
    "print(\"size of train:\", train.shape)\n",
    "print(\"size of test:\", test.shape)\n",
    "print(\"size of val:\", val.shape)\n",
    "\n",
    "from ml.ctree import Ctree\n",
    "ctree = Ctree(data)"
   ],
   "metadata": {
    "collapsed": false,
    "ExecuteTime": {
     "end_time": "2023-11-11T15:52:33.384175Z",
     "start_time": "2023-11-11T15:52:32.017134Z"
    }
   },
   "id": "a6aae892440f33ff"
  },
  {
   "cell_type": "markdown",
   "source": [
    "## ctree: single tree\n",
    "\n",
    "All plots are saved in `ml/[predictor]/`, or, e.g., `ml/[predictor1]_[predictor3]/` when multiple predictors are defined."
   ],
   "metadata": {
    "collapsed": false
   },
   "id": "fdf013749bc60464"
  },
  {
   "cell_type": "code",
   "execution_count": 6,
   "outputs": [
    {
     "name": "stdout",
     "output_type": "stream",
     "text": [
      "building tree...\n",
      "Plot saved to output/ctree/20231111170125_b1542f/ctree-testtype=Bonferroni-alpha=0_01-maxdepth=inf-minsplit=20-minbucket=7.png\n",
      "Model saved to output/ctree/20231111170125_b1542f/ctree-testtype=Bonferroni-alpha=0_01-maxdepth=inf-minsplit=20-minbucket=7.pkl\n"
     ]
    }
   ],
   "source": [
    "ctrl = ctree.CtreeControl(\n",
    "    testtype= \"Bonferroni\",\n",
    "    alpha=0.01\n",
    ")\n",
    "\n",
    "ctree.fit(\n",
    "    train=train,\n",
    "    ctree_control=ctrl,\n",
    ")\n",
    "\n",
    "ctree.plot()\n",
    "ctree.save()"
   ],
   "metadata": {
    "collapsed": false,
    "ExecuteTime": {
     "end_time": "2023-11-11T16:01:46.840216Z",
     "start_time": "2023-11-11T15:52:35.852801Z"
    }
   },
   "id": "3ea0093d2b0c9330"
  },
  {
   "cell_type": "code",
   "execution_count": 7,
   "outputs": [
    {
     "name": "stdout",
     "output_type": "stream",
     "text": [
      "AUC-ROC: (0.4996102063701396,)\n",
      "MCC: -0.010644916634548215\n",
      "<rpy2.rinterface_lib.sexp.NULLType object at 0x117594110> [0]\n"
     ]
    },
    {
     "ename": "TypeError",
     "evalue": "'NULLType' object is not iterable",
     "output_type": "error",
     "traceback": [
      "\u001B[0;31m---------------------------------------------------------------------------\u001B[0m",
      "\u001B[0;31mTypeError\u001B[0m                                 Traceback (most recent call last)",
      "Cell \u001B[0;32mIn[7], line 4\u001B[0m\n\u001B[1;32m      1\u001B[0m ypredict \u001B[38;5;241m=\u001B[39m ctree\u001B[38;5;241m.\u001B[39mpredict(newx\u001B[38;5;241m=\u001B[39mtest\u001B[38;5;241m.\u001B[39mdrop(columns\u001B[38;5;241m=\u001B[39m[\u001B[38;5;124m\"\u001B[39m\u001B[38;5;124mresponse\u001B[39m\u001B[38;5;124m\"\u001B[39m]), \u001B[38;5;28mtype\u001B[39m\u001B[38;5;241m=\u001B[39m\u001B[38;5;124m\"\u001B[39m\u001B[38;5;124mresponse\u001B[39m\u001B[38;5;124m\"\u001B[39m)\n\u001B[1;32m      2\u001B[0m ypredict_probs \u001B[38;5;241m=\u001B[39m ctree\u001B[38;5;241m.\u001B[39mpredict(newx\u001B[38;5;241m=\u001B[39mtest\u001B[38;5;241m.\u001B[39mdrop(columns\u001B[38;5;241m=\u001B[39m[\u001B[38;5;124m\"\u001B[39m\u001B[38;5;124mresponse\u001B[39m\u001B[38;5;124m\"\u001B[39m]), \u001B[38;5;28mtype\u001B[39m\u001B[38;5;241m=\u001B[39m\u001B[38;5;124m\"\u001B[39m\u001B[38;5;124mprob\u001B[39m\u001B[38;5;124m\"\u001B[39m)\n\u001B[0;32m----> 4\u001B[0m \u001B[43mctree\u001B[49m\u001B[38;5;241;43m.\u001B[39;49m\u001B[43massess\u001B[49m\u001B[43m(\u001B[49m\u001B[43mytrue\u001B[49m\u001B[38;5;241;43m=\u001B[39;49m\u001B[43mtest\u001B[49m\u001B[43m[\u001B[49m\u001B[38;5;124;43m\"\u001B[39;49m\u001B[38;5;124;43mresponse\u001B[39;49m\u001B[38;5;124;43m\"\u001B[39;49m\u001B[43m]\u001B[49m\u001B[43m,\u001B[49m\u001B[43m \u001B[49m\u001B[43mypredict\u001B[49m\u001B[38;5;241;43m=\u001B[39;49m\u001B[43mypredict\u001B[49m\u001B[43m,\u001B[49m\u001B[43m \u001B[49m\u001B[43mypredict_probs\u001B[49m\u001B[38;5;241;43m=\u001B[39;49m\u001B[43mypredict_probs\u001B[49m\u001B[43m)\u001B[49m\n",
      "File \u001B[0;32m~/Library/Mobile Documents/com~apple~CloudDocs/Documents/School/Bioinformatica/internship/ml/ctree.py:121\u001B[0m, in \u001B[0;36mCtree.assess\u001B[0;34m(self, ytrue, ypredict, ypredict_probs)\u001B[0m\n\u001B[1;32m    117\u001B[0m     file_name \u001B[38;5;241m+\u001B[39m\u001B[38;5;241m=\u001B[39m \u001B[38;5;124mf\u001B[39m\u001B[38;5;124m\"\u001B[39m\u001B[38;5;124m-\u001B[39m\u001B[38;5;132;01m{\u001B[39;00mkey\u001B[38;5;132;01m}\u001B[39;00m\u001B[38;5;124m=\u001B[39m\u001B[38;5;132;01m{\u001B[39;00m\u001B[38;5;28mstr\u001B[39m(value)\u001B[38;5;241m.\u001B[39mreplace(\u001B[38;5;124m'\u001B[39m\u001B[38;5;124m.\u001B[39m\u001B[38;5;124m'\u001B[39m,\u001B[38;5;250m \u001B[39m\u001B[38;5;124m'\u001B[39m\u001B[38;5;124m_\u001B[39m\u001B[38;5;124m'\u001B[39m)\u001B[38;5;132;01m}\u001B[39;00m\u001B[38;5;124m\"\u001B[39m\n\u001B[1;32m    119\u001B[0m output_dir \u001B[38;5;241m=\u001B[39m output_dir\u001B[38;5;241m.\u001B[39mjoinpath(file_name)\n\u001B[0;32m--> 121\u001B[0m \u001B[38;5;28;43mself\u001B[39;49m\u001B[38;5;241;43m.\u001B[39;49m\u001B[43m_clustermap\u001B[49m\u001B[43m(\u001B[49m\u001B[43mypredict_probs\u001B[49m\u001B[43m,\u001B[49m\u001B[43m \u001B[49m\u001B[43mytrue\u001B[49m\u001B[43m,\u001B[49m\u001B[43m \u001B[49m\u001B[43moutput_dir\u001B[49m\u001B[43m)\u001B[49m\n",
      "File \u001B[0;32m~/Library/Mobile Documents/com~apple~CloudDocs/Documents/School/Bioinformatica/internship/ml/model.py:67\u001B[0m, in \u001B[0;36mModel._clustermap\u001B[0;34m(self, ypredict_probs, ytest, path)\u001B[0m\n\u001B[1;32m     65\u001B[0m \u001B[38;5;28mprint\u001B[39m(robjects\u001B[38;5;241m.\u001B[39mr(\u001B[38;5;124m\"\u001B[39m\u001B[38;5;124mnames(coef(model))\u001B[39m\u001B[38;5;124m\"\u001B[39m))  \u001B[38;5;66;03m# type: ignore\u001B[39;00m\n\u001B[1;32m     66\u001B[0m \u001B[38;5;66;03m# convert the predictions to a dataframe with the correct column names\u001B[39;00m\n\u001B[0;32m---> 67\u001B[0m predictions \u001B[38;5;241m=\u001B[39m \u001B[43mpd\u001B[49m\u001B[38;5;241;43m.\u001B[39;49m\u001B[43mDataFrame\u001B[49m\u001B[43m(\u001B[49m\n\u001B[1;32m     68\u001B[0m \u001B[43m    \u001B[49m\u001B[43mypredict_probs\u001B[49m\u001B[43m,\u001B[49m\u001B[43m \u001B[49m\u001B[43mcolumns\u001B[49m\u001B[38;5;241;43m=\u001B[39;49m\u001B[43mrobjects\u001B[49m\u001B[38;5;241;43m.\u001B[39;49m\u001B[43mr\u001B[49m\u001B[43m(\u001B[49m\u001B[38;5;124;43m\"\u001B[39;49m\u001B[38;5;124;43mnames(coef(model))\u001B[39;49m\u001B[38;5;124;43m\"\u001B[39;49m\u001B[43m)\u001B[49m\u001B[43m  \u001B[49m\u001B[38;5;66;43;03m# type: ignore\u001B[39;49;00m\n\u001B[1;32m     69\u001B[0m \u001B[43m\u001B[49m\u001B[43m)\u001B[49m\n\u001B[1;32m     71\u001B[0m \u001B[38;5;66;03m# list all the unique tumor types found in the dataset\u001B[39;00m\n\u001B[1;32m     72\u001B[0m unique_tt \u001B[38;5;241m=\u001B[39m ytest\u001B[38;5;241m.\u001B[39munique()\n",
      "File \u001B[0;32m/Library/Frameworks/Python.framework/Versions/3.11/lib/python3.11/site-packages/pandas/core/frame.py:722\u001B[0m, in \u001B[0;36mDataFrame.__init__\u001B[0;34m(self, data, index, columns, dtype, copy)\u001B[0m\n\u001B[1;32m    712\u001B[0m         mgr \u001B[38;5;241m=\u001B[39m dict_to_mgr(\n\u001B[1;32m    713\u001B[0m             \u001B[38;5;66;03m# error: Item \"ndarray\" of \"Union[ndarray, Series, Index]\" has no\u001B[39;00m\n\u001B[1;32m    714\u001B[0m             \u001B[38;5;66;03m# attribute \"name\"\u001B[39;00m\n\u001B[0;32m   (...)\u001B[0m\n\u001B[1;32m    719\u001B[0m             typ\u001B[38;5;241m=\u001B[39mmanager,\n\u001B[1;32m    720\u001B[0m         )\n\u001B[1;32m    721\u001B[0m     \u001B[38;5;28;01melse\u001B[39;00m:\n\u001B[0;32m--> 722\u001B[0m         mgr \u001B[38;5;241m=\u001B[39m \u001B[43mndarray_to_mgr\u001B[49m\u001B[43m(\u001B[49m\n\u001B[1;32m    723\u001B[0m \u001B[43m            \u001B[49m\u001B[43mdata\u001B[49m\u001B[43m,\u001B[49m\n\u001B[1;32m    724\u001B[0m \u001B[43m            \u001B[49m\u001B[43mindex\u001B[49m\u001B[43m,\u001B[49m\n\u001B[1;32m    725\u001B[0m \u001B[43m            \u001B[49m\u001B[43mcolumns\u001B[49m\u001B[43m,\u001B[49m\n\u001B[1;32m    726\u001B[0m \u001B[43m            \u001B[49m\u001B[43mdtype\u001B[49m\u001B[38;5;241;43m=\u001B[39;49m\u001B[43mdtype\u001B[49m\u001B[43m,\u001B[49m\n\u001B[1;32m    727\u001B[0m \u001B[43m            \u001B[49m\u001B[43mcopy\u001B[49m\u001B[38;5;241;43m=\u001B[39;49m\u001B[43mcopy\u001B[49m\u001B[43m,\u001B[49m\n\u001B[1;32m    728\u001B[0m \u001B[43m            \u001B[49m\u001B[43mtyp\u001B[49m\u001B[38;5;241;43m=\u001B[39;49m\u001B[43mmanager\u001B[49m\u001B[43m,\u001B[49m\n\u001B[1;32m    729\u001B[0m \u001B[43m        \u001B[49m\u001B[43m)\u001B[49m\n\u001B[1;32m    731\u001B[0m \u001B[38;5;66;03m# For data is list-like, or Iterable (will consume into list)\u001B[39;00m\n\u001B[1;32m    732\u001B[0m \u001B[38;5;28;01melif\u001B[39;00m is_list_like(data):\n",
      "File \u001B[0;32m/Library/Frameworks/Python.framework/Versions/3.11/lib/python3.11/site-packages/pandas/core/internals/construction.py:345\u001B[0m, in \u001B[0;36mndarray_to_mgr\u001B[0;34m(values, index, columns, dtype, copy, typ)\u001B[0m\n\u001B[1;32m    335\u001B[0m     values \u001B[38;5;241m=\u001B[39m sanitize_array(\n\u001B[1;32m    336\u001B[0m         values,\n\u001B[1;32m    337\u001B[0m         \u001B[38;5;28;01mNone\u001B[39;00m,\n\u001B[0;32m   (...)\u001B[0m\n\u001B[1;32m    341\u001B[0m         allow_2d\u001B[38;5;241m=\u001B[39m\u001B[38;5;28;01mTrue\u001B[39;00m,\n\u001B[1;32m    342\u001B[0m     )\n\u001B[1;32m    344\u001B[0m \u001B[38;5;66;03m# _prep_ndarraylike ensures that values.ndim == 2 at this point\u001B[39;00m\n\u001B[0;32m--> 345\u001B[0m index, columns \u001B[38;5;241m=\u001B[39m \u001B[43m_get_axes\u001B[49m\u001B[43m(\u001B[49m\n\u001B[1;32m    346\u001B[0m \u001B[43m    \u001B[49m\u001B[43mvalues\u001B[49m\u001B[38;5;241;43m.\u001B[39;49m\u001B[43mshape\u001B[49m\u001B[43m[\u001B[49m\u001B[38;5;241;43m0\u001B[39;49m\u001B[43m]\u001B[49m\u001B[43m,\u001B[49m\u001B[43m \u001B[49m\u001B[43mvalues\u001B[49m\u001B[38;5;241;43m.\u001B[39;49m\u001B[43mshape\u001B[49m\u001B[43m[\u001B[49m\u001B[38;5;241;43m1\u001B[39;49m\u001B[43m]\u001B[49m\u001B[43m,\u001B[49m\u001B[43m \u001B[49m\u001B[43mindex\u001B[49m\u001B[38;5;241;43m=\u001B[39;49m\u001B[43mindex\u001B[49m\u001B[43m,\u001B[49m\u001B[43m \u001B[49m\u001B[43mcolumns\u001B[49m\u001B[38;5;241;43m=\u001B[39;49m\u001B[43mcolumns\u001B[49m\n\u001B[1;32m    347\u001B[0m \u001B[43m\u001B[49m\u001B[43m)\u001B[49m\n\u001B[1;32m    349\u001B[0m _check_values_indices_shape_match(values, index, columns)\n\u001B[1;32m    351\u001B[0m \u001B[38;5;28;01mif\u001B[39;00m typ \u001B[38;5;241m==\u001B[39m \u001B[38;5;124m\"\u001B[39m\u001B[38;5;124marray\u001B[39m\u001B[38;5;124m\"\u001B[39m:\n",
      "File \u001B[0;32m/Library/Frameworks/Python.framework/Versions/3.11/lib/python3.11/site-packages/pandas/core/internals/construction.py:753\u001B[0m, in \u001B[0;36m_get_axes\u001B[0;34m(N, K, index, columns)\u001B[0m\n\u001B[1;32m    751\u001B[0m     columns \u001B[38;5;241m=\u001B[39m default_index(K)\n\u001B[1;32m    752\u001B[0m \u001B[38;5;28;01melse\u001B[39;00m:\n\u001B[0;32m--> 753\u001B[0m     columns \u001B[38;5;241m=\u001B[39m \u001B[43mensure_index\u001B[49m\u001B[43m(\u001B[49m\u001B[43mcolumns\u001B[49m\u001B[43m)\u001B[49m\n\u001B[1;32m    754\u001B[0m \u001B[38;5;28;01mreturn\u001B[39;00m index, columns\n",
      "File \u001B[0;32m/Library/Frameworks/Python.framework/Versions/3.11/lib/python3.11/site-packages/pandas/core/indexes/base.py:7333\u001B[0m, in \u001B[0;36mensure_index\u001B[0;34m(index_like, copy)\u001B[0m\n\u001B[1;32m   7331\u001B[0m         \u001B[38;5;28;01mreturn\u001B[39;00m Index\u001B[38;5;241m.\u001B[39m_with_infer(index_like, copy\u001B[38;5;241m=\u001B[39mcopy, tupleize_cols\u001B[38;5;241m=\u001B[39m\u001B[38;5;28;01mFalse\u001B[39;00m)\n\u001B[1;32m   7332\u001B[0m \u001B[38;5;28;01melse\u001B[39;00m:\n\u001B[0;32m-> 7333\u001B[0m     \u001B[38;5;28;01mreturn\u001B[39;00m \u001B[43mIndex\u001B[49m\u001B[38;5;241;43m.\u001B[39;49m\u001B[43m_with_infer\u001B[49m\u001B[43m(\u001B[49m\u001B[43mindex_like\u001B[49m\u001B[43m,\u001B[49m\u001B[43m \u001B[49m\u001B[43mcopy\u001B[49m\u001B[38;5;241;43m=\u001B[39;49m\u001B[43mcopy\u001B[49m\u001B[43m)\u001B[49m\n",
      "File \u001B[0;32m/Library/Frameworks/Python.framework/Versions/3.11/lib/python3.11/site-packages/pandas/core/indexes/base.py:716\u001B[0m, in \u001B[0;36mIndex._with_infer\u001B[0;34m(cls, *args, **kwargs)\u001B[0m\n\u001B[1;32m    714\u001B[0m \u001B[38;5;28;01mwith\u001B[39;00m warnings\u001B[38;5;241m.\u001B[39mcatch_warnings():\n\u001B[1;32m    715\u001B[0m     warnings\u001B[38;5;241m.\u001B[39mfilterwarnings(\u001B[38;5;124m\"\u001B[39m\u001B[38;5;124mignore\u001B[39m\u001B[38;5;124m\"\u001B[39m, \u001B[38;5;124m\"\u001B[39m\u001B[38;5;124m.*the Index constructor\u001B[39m\u001B[38;5;124m\"\u001B[39m, \u001B[38;5;167;01mFutureWarning\u001B[39;00m)\n\u001B[0;32m--> 716\u001B[0m     result \u001B[38;5;241m=\u001B[39m \u001B[38;5;28;43mcls\u001B[39;49m\u001B[43m(\u001B[49m\u001B[38;5;241;43m*\u001B[39;49m\u001B[43margs\u001B[49m\u001B[43m,\u001B[49m\u001B[43m \u001B[49m\u001B[38;5;241;43m*\u001B[39;49m\u001B[38;5;241;43m*\u001B[39;49m\u001B[43mkwargs\u001B[49m\u001B[43m)\u001B[49m\n\u001B[1;32m    718\u001B[0m \u001B[38;5;28;01mif\u001B[39;00m result\u001B[38;5;241m.\u001B[39mdtype \u001B[38;5;241m==\u001B[39m _dtype_obj \u001B[38;5;129;01mand\u001B[39;00m \u001B[38;5;129;01mnot\u001B[39;00m result\u001B[38;5;241m.\u001B[39m_is_multi:\n\u001B[1;32m    719\u001B[0m     \u001B[38;5;66;03m# error: Argument 1 to \"maybe_convert_objects\" has incompatible type\u001B[39;00m\n\u001B[1;32m    720\u001B[0m     \u001B[38;5;66;03m# \"Union[ExtensionArray, ndarray[Any, Any]]\"; expected\u001B[39;00m\n\u001B[1;32m    721\u001B[0m     \u001B[38;5;66;03m# \"ndarray[Any, Any]\"\u001B[39;00m\n\u001B[1;32m    722\u001B[0m     values \u001B[38;5;241m=\u001B[39m lib\u001B[38;5;241m.\u001B[39mmaybe_convert_objects(result\u001B[38;5;241m.\u001B[39m_values)  \u001B[38;5;66;03m# type: ignore[arg-type]\u001B[39;00m\n",
      "File \u001B[0;32m/Library/Frameworks/Python.framework/Versions/3.11/lib/python3.11/site-packages/pandas/core/indexes/base.py:565\u001B[0m, in \u001B[0;36mIndex.__new__\u001B[0;34m(cls, data, dtype, copy, name, tupleize_cols, **kwargs)\u001B[0m\n\u001B[1;32m    560\u001B[0m         \u001B[38;5;28;01mreturn\u001B[39;00m MultiIndex\u001B[38;5;241m.\u001B[39mfrom_tuples(\n\u001B[1;32m    561\u001B[0m             data, names\u001B[38;5;241m=\u001B[39mname \u001B[38;5;129;01mor\u001B[39;00m kwargs\u001B[38;5;241m.\u001B[39mget(\u001B[38;5;124m\"\u001B[39m\u001B[38;5;124mnames\u001B[39m\u001B[38;5;124m\"\u001B[39m)\n\u001B[1;32m    562\u001B[0m         )\n\u001B[1;32m    563\u001B[0m \u001B[38;5;66;03m# other iterable of some kind\u001B[39;00m\n\u001B[0;32m--> 565\u001B[0m subarr \u001B[38;5;241m=\u001B[39m \u001B[43mcom\u001B[49m\u001B[38;5;241;43m.\u001B[39;49m\u001B[43masarray_tuplesafe\u001B[49m\u001B[43m(\u001B[49m\u001B[43mdata\u001B[49m\u001B[43m,\u001B[49m\u001B[43m \u001B[49m\u001B[43mdtype\u001B[49m\u001B[38;5;241;43m=\u001B[39;49m\u001B[43m_dtype_obj\u001B[49m\u001B[43m)\u001B[49m\n\u001B[1;32m    566\u001B[0m \u001B[38;5;28;01mif\u001B[39;00m dtype \u001B[38;5;129;01mis\u001B[39;00m \u001B[38;5;28;01mNone\u001B[39;00m:\n\u001B[1;32m    567\u001B[0m     \u001B[38;5;66;03m# with e.g. a list [1, 2, 3] casting to numeric is _not_ deprecated\u001B[39;00m\n\u001B[1;32m    568\u001B[0m     subarr \u001B[38;5;241m=\u001B[39m _maybe_cast_data_without_dtype(\n\u001B[1;32m    569\u001B[0m         subarr, cast_numeric_deprecated\u001B[38;5;241m=\u001B[39m\u001B[38;5;28;01mFalse\u001B[39;00m\n\u001B[1;32m    570\u001B[0m     )\n",
      "File \u001B[0;32m/Library/Frameworks/Python.framework/Versions/3.11/lib/python3.11/site-packages/pandas/core/common.py:238\u001B[0m, in \u001B[0;36masarray_tuplesafe\u001B[0;34m(values, dtype)\u001B[0m\n\u001B[1;32m    235\u001B[0m \u001B[38;5;28;01mdef\u001B[39;00m \u001B[38;5;21masarray_tuplesafe\u001B[39m(values: Iterable, dtype: NpDtype \u001B[38;5;241m|\u001B[39m \u001B[38;5;28;01mNone\u001B[39;00m \u001B[38;5;241m=\u001B[39m \u001B[38;5;28;01mNone\u001B[39;00m) \u001B[38;5;241m-\u001B[39m\u001B[38;5;241m>\u001B[39m ArrayLike:\n\u001B[1;32m    237\u001B[0m     \u001B[38;5;28;01mif\u001B[39;00m \u001B[38;5;129;01mnot\u001B[39;00m (\u001B[38;5;28misinstance\u001B[39m(values, (\u001B[38;5;28mlist\u001B[39m, \u001B[38;5;28mtuple\u001B[39m)) \u001B[38;5;129;01mor\u001B[39;00m \u001B[38;5;28mhasattr\u001B[39m(values, \u001B[38;5;124m\"\u001B[39m\u001B[38;5;124m__array__\u001B[39m\u001B[38;5;124m\"\u001B[39m)):\n\u001B[0;32m--> 238\u001B[0m         values \u001B[38;5;241m=\u001B[39m \u001B[38;5;28mlist\u001B[39m(values)\n\u001B[1;32m    239\u001B[0m     \u001B[38;5;28;01melif\u001B[39;00m \u001B[38;5;28misinstance\u001B[39m(values, ABCIndex):\n\u001B[1;32m    240\u001B[0m         \u001B[38;5;28;01mreturn\u001B[39;00m values\u001B[38;5;241m.\u001B[39m_values\n",
      "\u001B[0;31mTypeError\u001B[0m: 'NULLType' object is not iterable"
     ]
    }
   ],
   "source": [
    "ypredict = ctree.predict(newx=test.drop(columns=[\"response\"]), type=\"response\")\n",
    "ypredict_probs = ctree.predict(newx=test.drop(columns=[\"response\"]), type=\"prob\")\n",
    "\n",
    "ctree.assess(ytrue=test[\"response\"], ypredict=ypredict, ypredict_probs=ypredict_probs)"
   ],
   "metadata": {
    "collapsed": false,
    "ExecuteTime": {
     "end_time": "2023-11-11T16:09:08.900598Z",
     "start_time": "2023-11-11T16:08:53.457681Z"
    }
   },
   "id": "a691e7a5214cf99e"
  },
  {
   "cell_type": "markdown",
   "source": [
    "\n",
    "## ctree: multiprocessed\n",
    "\n",
    "Note: this might take a while depending on the number of parameters and the size of the dataset.\n",
    "\n",
    "All plots are saved in `ml/[predictor]/`, or, e.g., `ml/[predictor1]_[predictor3]/` when multiple predictors are defined.\n",
    "\n",
    "### Prepare parameters\n",
    "\n",
    "A tree will be built for each combination of parameters. The parameters are defined below."
   ],
   "metadata": {
    "collapsed": false
   },
   "id": "cfadbdb3fa12aaef"
  },
  {
   "cell_type": "code",
   "execution_count": null,
   "outputs": [],
   "source": [
    "import itertools\n",
    "\n",
    "# define parameters to be passed to ctree\n",
    "teststats: list[str] = [\"quad\", \"max\"]\n",
    "testtypes: list[str | list] = [\n",
    "    \"Teststatistic\",\n",
    "    \"Univariate\",\n",
    "    \"Bonferroni\",\n",
    "    \"MonteCarlo\",\n",
    "    robjects.r.c(\"MonteCarlo\", \"Bonferroni\"),\n",
    "]\n",
    "splitstats: list[str] = [\"quad\", \"max\"]\n",
    "# splittests: list[bool] = [True, False]\n",
    "alphas: list[float] = [0.1, 0.05, 0.01]\n",
    "predictors: list[list[str]] = [\n",
    "    [\"consensus independent component 1\"],\n",
    "    [\"consensus independent component 2\"],\n",
    "    [\"consensus independent component 3\"],\n",
    "]\n",
    "\n",
    "# make all possible combinations of parameters above\n",
    "arg_combos = itertools.product(\n",
    "    teststats, testtypes, splitstats, alphas, predictors\n",
    ")\n"
   ],
   "metadata": {
    "collapsed": false
   },
   "id": "2fa41ebc8cf7d097"
  },
  {
   "cell_type": "code",
   "execution_count": null,
   "outputs": [],
   "source": [
    "import multiprocessing as mp\n",
    "from datetime import datetime\n",
    "\n",
    "t0 = datetime.now()\n",
    "print(f\"starting time: {t0.time()}\")\n",
    "\n",
    "with mp.Pool(config[\"execution\"][\"cores\"]) as p:\n",
    "    p.starmap(treebuilder.build_ctree, arg_combos)\n",
    "    \n",
    "print(\"Time taken:\", datetime.now() - t0)"
   ],
   "metadata": {
    "collapsed": false
   },
   "id": "da03616ae15011ba"
  }
 ],
 "metadata": {
  "kernelspec": {
   "display_name": "Python 3 (ipykernel)",
   "language": "python",
   "name": "python3"
  },
  "language_info": {
   "codemirror_mode": {
    "name": "ipython",
    "version": 3
   },
   "file_extension": ".py",
   "mimetype": "text/x-python",
   "name": "python",
   "nbconvert_exporter": "python",
   "pygments_lexer": "ipython3",
   "version": "3.11.0"
  }
 },
 "nbformat": 4,
 "nbformat_minor": 5
}
